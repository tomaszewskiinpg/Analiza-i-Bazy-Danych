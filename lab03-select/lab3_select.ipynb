{
  "nbformat": 4,
  "nbformat_minor": 0,
  "metadata": {
    "colab": {
      "name": "lab3_Tomaszewski.ipynb",
      "provenance": [],
      "collapsed_sections": []
    },
    "kernelspec": {
      "name": "python3",
      "display_name": "Python 3"
    },
    "language_info": {
      "name": "python"
    }
  },
  "cells": [
    {
      "cell_type": "code",
      "metadata": {
        "id": "wSQaEJzBBrQf"
      },
      "source": [
        "import psycopg2 as pg\n",
        "import pandas as pd\n",
        "\n",
        "connection = pg.connect(\n",
        "    host=\"pgsql-196447.vipserv.org\",\n",
        "    port=5432, \n",
        "    dbname='wbauer_adb',\n",
        "    user='wbauer_adb', \n",
        "    password='adb2020'\n",
        "    )\n"
      ],
      "execution_count": 152,
      "outputs": []
    },
    {
      "cell_type": "markdown",
      "metadata": {
        "id": "WnIz1_DU57G4"
      },
      "source": [
        "Ile kategorii filmów mamy w wypożyczalni?"
      ]
    },
    {
      "cell_type": "code",
      "metadata": {
        "colab": {
          "base_uri": "https://localhost:8080/"
        },
        "id": "GJMTbm6hCGLC",
        "outputId": "a5def4d3-0645-4ec1-9138-4b59d4211a01"
      },
      "source": [
        "num_of_categories = pd.read_sql(\"SELECT COUNT(category_id) FROM category\",con=connection)\n",
        "print(num_of_categories)"
      ],
      "execution_count": 153,
      "outputs": [
        {
          "output_type": "stream",
          "name": "stdout",
          "text": [
            "   count\n",
            "0     16\n"
          ]
        }
      ]
    },
    {
      "cell_type": "markdown",
      "metadata": {
        "id": "yp59u1ES5-v9"
      },
      "source": [
        "Wyświetl listę kategorii w kolejności alfabetycznej."
      ]
    },
    {
      "cell_type": "code",
      "metadata": {
        "colab": {
          "base_uri": "https://localhost:8080/",
          "height": 532
        },
        "id": "vsu-rtaSL7f5",
        "outputId": "40b84ced-de99-42e0-c4e5-9ea36ab7be2f"
      },
      "source": [
        "categories_names = pd.read_sql(\"SELECT name FROM category ORDER BY name\",con=connection)\n",
        "categories_names"
      ],
      "execution_count": 154,
      "outputs": [
        {
          "output_type": "execute_result",
          "data": {
            "text/html": [
              "<div>\n",
              "<style scoped>\n",
              "    .dataframe tbody tr th:only-of-type {\n",
              "        vertical-align: middle;\n",
              "    }\n",
              "\n",
              "    .dataframe tbody tr th {\n",
              "        vertical-align: top;\n",
              "    }\n",
              "\n",
              "    .dataframe thead th {\n",
              "        text-align: right;\n",
              "    }\n",
              "</style>\n",
              "<table border=\"1\" class=\"dataframe\">\n",
              "  <thead>\n",
              "    <tr style=\"text-align: right;\">\n",
              "      <th></th>\n",
              "      <th>name</th>\n",
              "    </tr>\n",
              "  </thead>\n",
              "  <tbody>\n",
              "    <tr>\n",
              "      <th>0</th>\n",
              "      <td>Action</td>\n",
              "    </tr>\n",
              "    <tr>\n",
              "      <th>1</th>\n",
              "      <td>Animation</td>\n",
              "    </tr>\n",
              "    <tr>\n",
              "      <th>2</th>\n",
              "      <td>Children</td>\n",
              "    </tr>\n",
              "    <tr>\n",
              "      <th>3</th>\n",
              "      <td>Classics</td>\n",
              "    </tr>\n",
              "    <tr>\n",
              "      <th>4</th>\n",
              "      <td>Comedy</td>\n",
              "    </tr>\n",
              "    <tr>\n",
              "      <th>5</th>\n",
              "      <td>Documentary</td>\n",
              "    </tr>\n",
              "    <tr>\n",
              "      <th>6</th>\n",
              "      <td>Drama</td>\n",
              "    </tr>\n",
              "    <tr>\n",
              "      <th>7</th>\n",
              "      <td>Family</td>\n",
              "    </tr>\n",
              "    <tr>\n",
              "      <th>8</th>\n",
              "      <td>Foreign</td>\n",
              "    </tr>\n",
              "    <tr>\n",
              "      <th>9</th>\n",
              "      <td>Games</td>\n",
              "    </tr>\n",
              "    <tr>\n",
              "      <th>10</th>\n",
              "      <td>Horror</td>\n",
              "    </tr>\n",
              "    <tr>\n",
              "      <th>11</th>\n",
              "      <td>Music</td>\n",
              "    </tr>\n",
              "    <tr>\n",
              "      <th>12</th>\n",
              "      <td>New</td>\n",
              "    </tr>\n",
              "    <tr>\n",
              "      <th>13</th>\n",
              "      <td>Sci-Fi</td>\n",
              "    </tr>\n",
              "    <tr>\n",
              "      <th>14</th>\n",
              "      <td>Sports</td>\n",
              "    </tr>\n",
              "    <tr>\n",
              "      <th>15</th>\n",
              "      <td>Travel</td>\n",
              "    </tr>\n",
              "  </tbody>\n",
              "</table>\n",
              "</div>"
            ],
            "text/plain": [
              "           name\n",
              "0        Action\n",
              "1     Animation\n",
              "2      Children\n",
              "3      Classics\n",
              "4        Comedy\n",
              "5   Documentary\n",
              "6         Drama\n",
              "7        Family\n",
              "8       Foreign\n",
              "9         Games\n",
              "10       Horror\n",
              "11        Music\n",
              "12          New\n",
              "13       Sci-Fi\n",
              "14       Sports\n",
              "15       Travel"
            ]
          },
          "metadata": {},
          "execution_count": 154
        }
      ]
    },
    {
      "cell_type": "markdown",
      "metadata": {
        "id": "Ug6fBphz6Bbg"
      },
      "source": [
        "Znajdź najstarszy i najmłodszy film do wypożyczenia."
      ]
    },
    {
      "cell_type": "code",
      "metadata": {
        "colab": {
          "base_uri": "https://localhost:8080/"
        },
        "id": "EDK0VdYmNOLi",
        "outputId": "5bec6528-240f-4539-ac96-06613a4fe613"
      },
      "source": [
        "newest_films = pd.read_sql(\"\"\"\n",
        "                            SELECT film_id, title, MAX(release_year) \n",
        "                            FROM film GROUP BY film_id\n",
        "                            \"\"\",con=connection)\n",
        "print(newest_film)"
      ],
      "execution_count": 155,
      "outputs": [
        {
          "output_type": "stream",
          "name": "stdout",
          "text": [
            "     film_id                  title   min\n",
            "0        251    Dragonfly Strangers  2006\n",
            "1        106  Bulworth Commandments  2006\n",
            "2        120      Caribbean Liberty  2006\n",
            "3        285       English Bulworth  2006\n",
            "4        681        Pirates Roxanne  2006\n",
            "..       ...                    ...   ...\n",
            "995      616         National Story  2006\n",
            "996      615          Nash Chocolat  2006\n",
            "997      144    Chinatown Gladiator  2006\n",
            "998        7        Airplane Sierra  2006\n",
            "999      453         Image Princess  2006\n",
            "\n",
            "[1000 rows x 3 columns]\n"
          ]
        }
      ]
    },
    {
      "cell_type": "code",
      "metadata": {
        "colab": {
          "base_uri": "https://localhost:8080/"
        },
        "id": "6yHGls8bfaM4",
        "outputId": "ce74c687-f9fa-4978-d58b-c6f899d135d1"
      },
      "source": [
        "oldest_films = pd.read_sql('SELECT film_id, title, MIN(release_year) FROM film GROUP BY film_id',con=connection)\n",
        "print(oldest_films)"
      ],
      "execution_count": 156,
      "outputs": [
        {
          "output_type": "stream",
          "name": "stdout",
          "text": [
            "     film_id                  title   min\n",
            "0        251    Dragonfly Strangers  2006\n",
            "1        106  Bulworth Commandments  2006\n",
            "2        120      Caribbean Liberty  2006\n",
            "3        285       English Bulworth  2006\n",
            "4        681        Pirates Roxanne  2006\n",
            "..       ...                    ...   ...\n",
            "995      616         National Story  2006\n",
            "996      615          Nash Chocolat  2006\n",
            "997      144    Chinatown Gladiator  2006\n",
            "998        7        Airplane Sierra  2006\n",
            "999      453         Image Princess  2006\n",
            "\n",
            "[1000 rows x 3 columns]\n"
          ]
        }
      ]
    },
    {
      "cell_type": "markdown",
      "metadata": {
        "id": "SkYQ2-Qn6GKt"
      },
      "source": [
        "Ile wypożyczeń odbyło się między 2005-07-01 a 2005-08-01?"
      ]
    },
    {
      "cell_type": "code",
      "metadata": {
        "colab": {
          "base_uri": "https://localhost:8080/"
        },
        "id": "_FSb49znfvv3",
        "outputId": "18933fe7-dde5-40c1-bf4a-a7448ae37522"
      },
      "source": [
        "rentals_1 = pd.read_sql(\"\"\"\n",
        "                        SELECT COUNT(rental_id)\n",
        "                        FROM rental \n",
        "                        WHERE rental_date \n",
        "                        BETWEEN '2005-07-01 00:00:00' AND '2005-08-01 23:59:59'\n",
        "                        \"\"\"\n",
        "                        ,con=connection)\n",
        "print(rentals_1)"
      ],
      "execution_count": 157,
      "outputs": [
        {
          "output_type": "stream",
          "name": "stdout",
          "text": [
            "   count\n",
            "0   7380\n"
          ]
        }
      ]
    },
    {
      "cell_type": "markdown",
      "metadata": {
        "id": "FQTRC3Fg6Jk_"
      },
      "source": [
        "Ile wypożyczeń odbyło się między 2010-01-01 a 2011-02-01?"
      ]
    },
    {
      "cell_type": "code",
      "metadata": {
        "colab": {
          "base_uri": "https://localhost:8080/"
        },
        "id": "3bFulPbbnyRa",
        "outputId": "63e568bc-00c6-4825-88de-74c3631671fc"
      },
      "source": [
        "rentals_2 = pd.read_sql(\"\"\"\n",
        "                        SELECT COUNT(rental_id) \n",
        "                        FROM rental \n",
        "                        WHERE rental_date \n",
        "                        BETWEEN '2010-01-01 00:00:00' AND '2011-02-01 23:59:59'\n",
        "                        \"\"\"\n",
        "                        ,con=connection)\n",
        "print(rentals_2)"
      ],
      "execution_count": 158,
      "outputs": [
        {
          "output_type": "stream",
          "name": "stdout",
          "text": [
            "   count\n",
            "0      0\n"
          ]
        }
      ]
    },
    {
      "cell_type": "markdown",
      "metadata": {
        "id": "c2OQPd-56Mn6"
      },
      "source": [
        "Znajdź największą płatność wypożyczenia."
      ]
    },
    {
      "cell_type": "code",
      "metadata": {
        "colab": {
          "base_uri": "https://localhost:8080/"
        },
        "id": "iv2SarLmjdTq",
        "outputId": "cc4bc343-f9e1-441c-bfd7-7968801b111a"
      },
      "source": [
        "biggest_payment = pd.read_sql(\"SELECT MAX(amount) AS max_payment_amount FROM payment\",con=connection)\n",
        "print(biggest_payment)"
      ],
      "execution_count": 159,
      "outputs": [
        {
          "output_type": "stream",
          "name": "stdout",
          "text": [
            "   max_payment_amount\n",
            "0               11.99\n"
          ]
        }
      ]
    },
    {
      "cell_type": "markdown",
      "metadata": {
        "id": "JeHP3yOt6dI5"
      },
      "source": [
        "Znajdź wszystkich klientów z Polski, Nigerii lub Bangladeszu."
      ]
    },
    {
      "cell_type": "code",
      "metadata": {
        "colab": {
          "base_uri": "https://localhost:8080/"
        },
        "id": "AwBrItqBsM9u",
        "outputId": "3e410c2d-5e32-4654-ae2e-c1cea2727730"
      },
      "source": [
        "customers = pd.read_sql(\"\"\"\n",
        "                          SELECT *\n",
        "                          FROM customer\n",
        "                          INNER JOIN address\n",
        "                            ON customer.address_id = address.address_id\n",
        "                          INNER JOIN city\n",
        "                            ON address.city_id = city.city_id\n",
        "                          INNER JOIN country\n",
        "                            ON city.country_id = country.country_id\n",
        "                          WHERE country.country IN ('Poland', 'Nigeria', 'Bangladesh')\n",
        "                        \"\"\"\n",
        "                        ,con=connection)\n",
        "print(customers)"
      ],
      "execution_count": 160,
      "outputs": [
        {
          "output_type": "stream",
          "name": "stdout",
          "text": [
            "    customer_id  store_id  ...     country         last_update\n",
            "0           284         1  ...     Nigeria 2006-02-15 09:44:00\n",
            "1           318         1  ...      Poland 2006-02-15 09:44:00\n",
            "2           572         1  ...      Poland 2006-02-15 09:44:00\n",
            "3           409         2  ...     Nigeria 2006-02-15 09:44:00\n",
            "4           332         1  ...  Bangladesh 2006-02-15 09:44:00\n",
            "5           286         1  ...     Nigeria 2006-02-15 09:44:00\n",
            "6            80         1  ...     Nigeria 2006-02-15 09:44:00\n",
            "7           198         2  ...     Nigeria 2006-02-15 09:44:00\n",
            "8           103         1  ...     Nigeria 2006-02-15 09:44:00\n",
            "9           329         2  ...  Bangladesh 2006-02-15 09:44:00\n",
            "10          128         1  ...      Poland 2006-02-15 09:44:00\n",
            "11           18         2  ...     Nigeria 2006-02-15 09:44:00\n",
            "12          270         1  ...      Poland 2006-02-15 09:44:00\n",
            "13          501         1  ...      Poland 2006-02-15 09:44:00\n",
            "14          277         2  ...     Nigeria 2006-02-15 09:44:00\n",
            "15          156         1  ...     Nigeria 2006-02-15 09:44:00\n",
            "16          280         2  ...     Nigeria 2006-02-15 09:44:00\n",
            "17          250         2  ...     Nigeria 2006-02-15 09:44:00\n",
            "18          571         2  ...      Poland 2006-02-15 09:44:00\n",
            "19          562         1  ...     Nigeria 2006-02-15 09:44:00\n",
            "20           21         1  ...  Bangladesh 2006-02-15 09:44:00\n",
            "21          380         1  ...      Poland 2006-02-15 09:44:00\n",
            "22          558         1  ...      Poland 2006-02-15 09:44:00\n",
            "23          232         2  ...     Nigeria 2006-02-15 09:44:00\n",
            "\n",
            "[24 rows x 25 columns]\n"
          ]
        }
      ]
    },
    {
      "cell_type": "markdown",
      "metadata": {
        "id": "j6O-8jW56fok"
      },
      "source": [
        "Gdzie mieszkają członkowie personelu?"
      ]
    },
    {
      "cell_type": "code",
      "metadata": {
        "colab": {
          "base_uri": "https://localhost:8080/"
        },
        "id": "ZzQZ-d2KwGyy",
        "outputId": "424d8770-a40c-42b4-c9e3-7e504ff3699b"
      },
      "source": [
        "staff_countries = pd.read_sql(\"\"\"\n",
        "                                SELECT DISTINCT country.country \n",
        "                                FROM staff\n",
        "                                INNER JOIN address\n",
        "                                  ON staff.address_id = address.address_id\n",
        "                                INNER JOIN city\n",
        "                                  ON address.city_id = city.city_id\n",
        "                                INNER JOIN country\n",
        "                                  ON city.country_id = country.country_id\n",
        "                                \"\"\"\n",
        "                                \n",
        "                                ,con=connection)\n",
        "print(staff_countries)"
      ],
      "execution_count": 161,
      "outputs": [
        {
          "output_type": "stream",
          "name": "stdout",
          "text": [
            "     country\n",
            "0  Australia\n",
            "1     Canada\n"
          ]
        }
      ]
    },
    {
      "cell_type": "markdown",
      "metadata": {
        "id": "cn5WW-Jk6h85"
      },
      "source": [
        "Ilu pracowników mieszka w Argentynie lub Hiszpanii?"
      ]
    },
    {
      "cell_type": "code",
      "metadata": {
        "colab": {
          "base_uri": "https://localhost:8080/"
        },
        "id": "pHxBAXdL5jms",
        "outputId": "45297938-65b3-42cb-d648-c428a2e07eaf"
      },
      "source": [
        "num_staff_from_countries = pd.read_sql(\"\"\"\n",
        "                                        SELECT COUNT(staff_id) \n",
        "                                        FROM staff\n",
        "                                        INNER JOIN address\n",
        "                                          ON staff.address_id = address.address_id\n",
        "                                        INNER JOIN city\n",
        "                                          ON address.city_id = city.city_id\n",
        "                                        INNER JOIN country\n",
        "                                          ON city.country_id = country.country_id\n",
        "                                        WHERE country.country IN ('Spain', 'Argentina')\n",
        "                                        \"\"\"\n",
        "                                        \n",
        "                                        ,con=connection)\n",
        "print(num_staff_from_countries)\n"
      ],
      "execution_count": 162,
      "outputs": [
        {
          "output_type": "stream",
          "name": "stdout",
          "text": [
            "   count\n",
            "0      0\n"
          ]
        }
      ]
    },
    {
      "cell_type": "markdown",
      "metadata": {
        "id": "NJ8OmyA-GI9c"
      },
      "source": [
        "Jakie kategorie filmów zostały wypożyczone przez klientów?"
      ]
    },
    {
      "cell_type": "code",
      "metadata": {
        "colab": {
          "base_uri": "https://localhost:8080/"
        },
        "id": "iZ_Q9F9I8BXr",
        "outputId": "ea69786e-f136-497a-9ffc-d9b1337ae91e"
      },
      "source": [
        "client_categories = pd.read_sql(\"\"\"\n",
        "                                  SELECT DISTINCT category.category_id, category.name\n",
        "                                  FROM rental\n",
        "                                  INNER JOIN inventory\n",
        "                                    ON rental.inventory_id = inventory.inventory_id\n",
        "                                  INNER JOIN film\n",
        "                                    ON inventory.film_id = film.film_id\n",
        "                                  INNER JOIN film_category\n",
        "                                    ON film.film_id = film_category.film_id\n",
        "                                  INNER JOIN category\n",
        "                                    ON film_category.category_id = category.category_id\n",
        "                                  ORDER BY category.category_id\n",
        "                                  \"\"\"\n",
        "                                  ,con=connection)\n",
        "print(client_categories)"
      ],
      "execution_count": 163,
      "outputs": [
        {
          "output_type": "stream",
          "name": "stdout",
          "text": [
            "    category_id         name\n",
            "0             1       Action\n",
            "1             2    Animation\n",
            "2             3     Children\n",
            "3             4     Classics\n",
            "4             5       Comedy\n",
            "5             6  Documentary\n",
            "6             7        Drama\n",
            "7             8       Family\n",
            "8             9      Foreign\n",
            "9            10        Games\n",
            "10           11       Horror\n",
            "11           12        Music\n",
            "12           13          New\n",
            "13           14       Sci-Fi\n",
            "14           15       Sports\n",
            "15           16       Travel\n"
          ]
        }
      ]
    },
    {
      "cell_type": "markdown",
      "metadata": {
        "id": "SWPDYAIuKijJ"
      },
      "source": [
        "Znajdź wszystkie kategorie filmów wypożyczonych w Ameryce."
      ]
    },
    {
      "cell_type": "code",
      "metadata": {
        "colab": {
          "base_uri": "https://localhost:8080/"
        },
        "id": "lQs1KU4XKmz2",
        "outputId": "513e567a-fe02-4286-b8e4-d2d9b0713eb2"
      },
      "source": [
        "america_categories = pd.read_sql(\"\"\"\n",
        "                                  SELECT DISTINCT category.category_id, category.name\n",
        "                                  FROM country\n",
        "                                  INNER JOIN city\n",
        "                                    ON country.country in ('United States') AND country.country_id = city.country_id\n",
        "                                  INNER JOIN address\n",
        "                                    ON address.city_id = city.city_id\n",
        "                                  INNER JOIN customer\n",
        "                                    ON address.address_id = customer.address_id\n",
        "                                  INNER JOIN rental\n",
        "                                    ON customer.customer_id = rental.customer_id\n",
        "                                  INNER JOIN inventory\n",
        "                                    ON rental.inventory_id = inventory.inventory_id\n",
        "                                  INNER JOIN film\n",
        "                                    ON inventory.film_id = film.film_id\n",
        "                                  INNER JOIN film_category\n",
        "                                    ON film.film_id = film_category.film_id\n",
        "                                  INNER JOIN category\n",
        "                                    ON film_category.category_id = category.category_id\n",
        "                                  ORDER BY category.category_id\n",
        "                                  \"\"\"\n",
        "                                  ,con=connection)\n",
        "print(america_categories)"
      ],
      "execution_count": 164,
      "outputs": [
        {
          "output_type": "stream",
          "name": "stdout",
          "text": [
            "    category_id         name\n",
            "0             1       Action\n",
            "1             2    Animation\n",
            "2             3     Children\n",
            "3             4     Classics\n",
            "4             5       Comedy\n",
            "5             6  Documentary\n",
            "6             7        Drama\n",
            "7             8       Family\n",
            "8             9      Foreign\n",
            "9            10        Games\n",
            "10           11       Horror\n",
            "11           12        Music\n",
            "12           13          New\n",
            "13           14       Sci-Fi\n",
            "14           15       Sports\n",
            "15           16       Travel\n"
          ]
        }
      ]
    },
    {
      "cell_type": "markdown",
      "metadata": {
        "id": "dSaBJs8sQc-n"
      },
      "source": [
        "Znajdź wszystkie tytuły filmów, w których grał: Olympia Pfeiffer lub Julia Zellweger lub Ellen Presley"
      ]
    },
    {
      "cell_type": "code",
      "metadata": {
        "colab": {
          "base_uri": "https://localhost:8080/"
        },
        "id": "M5ZDRopOMdgR",
        "outputId": "484dd9d6-20d5-4ddd-a08f-b0205b6bb506"
      },
      "source": [
        "films_with_actors = pd.read_sql(\"\"\"\n",
        "                                  SELECT DISTINCT film.title\n",
        "                                  FROM film\n",
        "                                  INNER JOIN film_actor\n",
        "                                    ON film.film_id = film_actor.film_id\n",
        "                                  INNER JOIN actor\n",
        "                                    ON (film_actor.actor_id = actor.actor_id) \n",
        "                                  WHERE (\n",
        "                                        (actor.first_name='Olympia' AND actor.last_name='Pfeiffer')\n",
        "                                    OR  (actor.first_name='Julia' AND actor.last_name='Zellweger')\n",
        "                                    OR  (actor.first_name='Ellen' AND actor.last_name='Presley')\n",
        "                                    )\n",
        "                                  ORDER BY film.title\n",
        "                                  \n",
        "                                  \"\"\"\n",
        "                                  ,con=connection)\n",
        "print(films_with_actors)"
      ],
      "execution_count": 165,
      "outputs": [
        {
          "output_type": "stream",
          "name": "stdout",
          "text": [
            "                   title\n",
            "0            Badman Dawn\n",
            "1        Bilko Anonymous\n",
            "2   Breakfast Goldfinger\n",
            "3      Caribbean Liberty\n",
            "4       Casper Dragonfly\n",
            "..                   ...\n",
            "64             Turn Star\n",
            "65            Wait Cider\n",
            "66          Women Dorado\n",
            "67             Won Dares\n",
            "68         Wyoming Storm\n",
            "\n",
            "[69 rows x 1 columns]\n"
          ]
        }
      ]
    }
  ]
}